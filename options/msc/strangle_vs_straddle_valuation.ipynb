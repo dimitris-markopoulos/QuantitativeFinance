{
 "cells": [
  {
   "cell_type": "code",
   "execution_count": null,
   "metadata": {},
   "outputs": [
    {
     "name": "stdout",
     "output_type": "stream",
     "text": [
      "Straddle Value: 20.53\n",
      "Strangle Value: 20.71\n"
     ]
    }
   ],
   "source": [
    "from OOP_BSM import BSM\n",
    "\n",
    "v1, v2, v3 = 0.2, 0.25, 0.42\n",
    "assert v1 < v2 < v3, 'volatility surface is not valid - ATM lowest imp vol and tails increase'\n",
    "\n",
    "# Straddle\n",
    "params = {'S0': 100, 'K': 105, 'r': 0.01, 'q': 0.00, 'T': 1, 'v': v2}\n",
    "call_1 = BSM(**params).EuropeanCall\n",
    "put_1 = BSM(**params).EuropeanPut\n",
    "\n",
    "straddle_value = call_1 + put_1\n",
    "print(f'Straddle Value: {straddle_value:.2f}')\n",
    "\n",
    "# Strangle\n",
    "params_call = {'S0': 100, 'K': 110, 'r': 0.01, 'q': 0.00, 'T': 1, 'v': v3}  # More OTM = higher vol\n",
    "params_put = {'S0': 100, 'K': 100, 'r': 0.01, 'q': 0.00, 'T': 1, 'v': v1}   # ATM = lower vol\n",
    "\n",
    "call_2 = BSM(**params_call).EuropeanCall\n",
    "put_2 = BSM(**params_put).EuropeanPut\n",
    "\n",
    "strangle_value = call_2 + put_2\n",
    "print(f'Strangle Value: {strangle_value:.2f}')\n"
   ]
  }
 ],
 "metadata": {
  "kernelspec": {
   "display_name": "base",
   "language": "python",
   "name": "python3"
  },
  "language_info": {
   "codemirror_mode": {
    "name": "ipython",
    "version": 3
   },
   "file_extension": ".py",
   "mimetype": "text/x-python",
   "name": "python",
   "nbconvert_exporter": "python",
   "pygments_lexer": "ipython3",
   "version": "3.12.2"
  }
 },
 "nbformat": 4,
 "nbformat_minor": 2
}
