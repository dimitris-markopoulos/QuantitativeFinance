{
 "cells": [
  {
   "cell_type": "code",
   "execution_count": 5,
   "metadata": {},
   "outputs": [
    {
     "name": "stdout",
     "output_type": "stream",
     "text": [
      "Straddle Value: 24.52\n",
      "Strangle Value: 25.39\n"
     ]
    }
   ],
   "source": [
    "from OOP_BSM import BSM\n",
    "\n",
    "# Straddle\n",
    "params = {'S0':100,'K':105,'r':0.01,'q':0.00,'T':1,'v':0.30}\n",
    "call_1 = BSM(**params).EuropeanCall\n",
    "put_1 = BSM(**params).EuropeanPut\n",
    "\n",
    "straddle_value = call_1 + put_1\n",
    "print(f'Straddle Value: {straddle_value:.2f}')\n",
    "\n",
    "# Strangle\n",
    "params_call = {'S0':100,'K':110,'r':0.01,'q':0.00,'T':1,'v':0.37}\n",
    "params_put = {'S0':100,'K':100,'r':0.01,'q':0.00,'T':1,'v':0.37}\n",
    "call_2 = BSM(**params_call).EuropeanCall\n",
    "put_2 = BSM(**params_put).EuropeanPut\n",
    "\n",
    "strangle_value = call_2 + put_2\n",
    "print(f'Strangle Value: {strangle_value:.2f}')"
   ]
  }
 ],
 "metadata": {
  "kernelspec": {
   "display_name": "base",
   "language": "python",
   "name": "python3"
  },
  "language_info": {
   "codemirror_mode": {
    "name": "ipython",
    "version": 3
   },
   "file_extension": ".py",
   "mimetype": "text/x-python",
   "name": "python",
   "nbconvert_exporter": "python",
   "pygments_lexer": "ipython3",
   "version": "3.12.2"
  }
 },
 "nbformat": 4,
 "nbformat_minor": 2
}
