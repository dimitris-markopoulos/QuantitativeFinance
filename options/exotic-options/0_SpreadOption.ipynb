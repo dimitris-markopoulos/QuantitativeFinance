{
  "nbformat": 4,
  "nbformat_minor": 0,
  "metadata": {
    "colab": {
      "provenance": []
    },
    "kernelspec": {
      "name": "python3",
      "display_name": "Python 3"
    },
    "language_info": {
      "name": "python"
    }
  },
  "cells": [
    {
      "cell_type": "markdown",
      "source": [
        "Exotic Derivatives Pricing using MC - Spread Option"
      ],
      "metadata": {
        "id": "6KPMnFeutFdV"
      }
    },
    {
      "cell_type": "code",
      "execution_count": 1,
      "metadata": {
        "id": "FWZJFnDS5tJL"
      },
      "outputs": [],
      "source": [
        "import pandas as pd\n",
        "import numpy as np\n",
        "import matplotlib.pyplot as plt\n",
        "from scipy.stats import norm"
      ]
    },
    {
      "cell_type": "markdown",
      "source": [
        "# Part A - Antithetical Sampling"
      ],
      "metadata": {
        "id": "sI8akDjoiO6U"
      }
    },
    {
      "cell_type": "markdown",
      "source": [
        "Defined the functions simulateS1 and simulateS2 which generate two arrays of paths; size = n ."
      ],
      "metadata": {
        "id": "XwSKSMbQmgGx"
      }
    },
    {
      "cell_type": "code",
      "source": [
        "def simulateS1(S0, mu, v, q, T, n): #parameters for asset 1\n",
        "    rng = np.random.default_rng()  # set generator PCG64\n",
        "    Z1 = rng.normal(0.0, 1.0, size=n)  # n standard normal random variables\n",
        "    Z1_antithetic = -Z1\n",
        "\n",
        "    ST_original = S0 * np.exp((mu - q - (v ** 2) / 2) * T + v * np.sqrt(T) * Z1)\n",
        "    ST_antithetic = S0 * np.exp((mu - q - (v ** 2) / 2) * T + v * np.sqrt(T) * Z1_antithetic)\n",
        "\n",
        "    ST = np.concatenate((ST_original, ST_antithetic))\n",
        "    return ST\n",
        "\n",
        "def simulateS2(S0, mu, v, q, T, rho, n): #parameters for asset 2\n",
        "  rng = np.random.default_rng()  # set generator PCG64\n",
        "  Z = rng.normal(0.0, 1.0, size=(2, n))  # 2 x n array of standard normal random variables\n",
        "  Z1, Z2 = Z  # First row for Z1, second row for Z2\n",
        "  Z1_antithetic, Z2_antithetic = -Z1, -Z2  # Antithetic counterparts\n",
        "\n",
        "  ST_original = S0 * np.exp((mu - q - (v ** 2) / 2) * T + rho * v * Z1 * np.sqrt(T) + np.sqrt(1 - rho ** 2) * v * Z2 * np.sqrt(T))\n",
        "  ST_antithetic = S0 * np.exp((mu - q - (v ** 2) / 2) * T + rho * v * Z1_antithetic * np.sqrt(T) + np.sqrt(1 - rho ** 2) * v * Z2_antithetic * np.sqrt(T))\n",
        "\n",
        "  ST = np.concatenate((ST_original, ST_antithetic))\n",
        "  return ST"
      ],
      "metadata": {
        "id": "brD0iIFhALu-"
      },
      "execution_count": 2,
      "outputs": []
    },
    {
      "cell_type": "markdown",
      "source": [
        "Simulate the payoff of all paths $\\max[{S0 - S1 - K, 0}]$ then discount by factor $\\exp[{-rT}]$ to PV.  Take the mean of all these and this gives valuation."
      ],
      "metadata": {
        "id": "QEysRc40nMEN"
      }
    },
    {
      "cell_type": "code",
      "source": [
        "def sim_option_price(S0_1, S0_2, mu_1, mu_2, v1, v2, q1, q2, K, T, rho, r, n): #both paths should have same # of paths so I have only included n (as opposed to n1,n2)\n",
        "    \"\"\"Standard Antithetic Sampling\"\"\"\n",
        "    S1 = simulateS1(S0 = S0_1, mu = mu_1, v = v1, q = q1, T = T, n = n)\n",
        "    S2 = simulateS2(S0 = S0_2, mu = mu_2, v = v2, q = q2, T = T, rho = rho, n = n)\n",
        "    payoff = np.maximum(S1 - S2 - K, 0)\n",
        "    disc_payoffs = np.exp(-r * T) * payoff\n",
        "    sim_price = np.mean(disc_payoffs)\n",
        "    err_bound = 1.96 * disc_payoffs.std(ddof=1)/np.sqrt(n)\n",
        "    return [sim_price, err_bound]"
      ],
      "metadata": {
        "id": "0OxU0bbXK0tG"
      },
      "execution_count": 3,
      "outputs": []
    },
    {
      "cell_type": "markdown",
      "source": [
        "The $(1-\\alpha)100\\%$ Confidence Interval between all the discounted payoffs is easily calculated using the error bound in the function sim_option_price."
      ],
      "metadata": {
        "id": "O18ftrS3vvFu"
      }
    },
    {
      "cell_type": "code",
      "source": [
        "conf = sim_option_price(S0_1 = 300, S0_2 = 100, mu_1 = 0.02, mu_2 = 0.03, v1 = 0.10, v2 = 0.15, q1 = 0.0, q2 = 0.0, K = 10, T = 1, rho = 0.80, r = 0.05, n = 100000)\n",
        "CI = (round(conf[0] - conf[1], 4), round(conf[0] + conf[1], 4))\n",
        "print(f'95% Confidence Interval : {CI}')"
      ],
      "metadata": {
        "colab": {
          "base_uri": "https://localhost:8080/",
          "height": 0
        },
        "id": "_tultYI1vw1O",
        "outputId": "6b5724d7-4e07-4af2-c227-60715b0e7f86"
      },
      "execution_count": 4,
      "outputs": [
        {
          "output_type": "stream",
          "name": "stdout",
          "text": [
            "95% Confidence Interval : (183.4052, 183.8115)\n"
          ]
        }
      ]
    },
    {
      "cell_type": "markdown",
      "source": [
        "## Part A - Msc."
      ],
      "metadata": {
        "id": "c1LXc5Wvu3qe"
      }
    },
    {
      "cell_type": "markdown",
      "source": [
        "### Distribution of Payoffs"
      ],
      "metadata": {
        "id": "0wowShZ6sUuS"
      }
    },
    {
      "cell_type": "markdown",
      "source": [
        "Below is a visualization of the distribution of payoffs for all 2n paths that we have generated in the MC simulation.  We now seek to find a CI for this distribution."
      ],
      "metadata": {
        "id": "KfoCQjqOsm87"
      }
    },
    {
      "cell_type": "code",
      "source": [
        "def DiscPayoff(S0_1, S0_2, mu_1, mu_2, v1, v2, q1, q2, K, T, rho, r, n): #both paths should have same # of paths so I have only included n (as opposed to n1,n2)\n",
        "    \"\"\"Standard Antithetic Sampling\"\"\"\n",
        "    S1 = simulateS1(S0 = S0_1, mu = mu_1, v = v1, q = q1, T = T, n = n)\n",
        "    S2 = simulateS2(S0 = S0_2, mu = mu_2, v = v2, q = q2, T = T, rho = rho, n = n)\n",
        "    payoff = np.maximum(S1 - S2 - K, 0)\n",
        "    disc_payoffs = np.exp(-r * T) * payoff\n",
        "    return disc_payoffs\n",
        "\n",
        "dist = DiscPayoff(S0_1 = 300, S0_2 = 100, mu_1 = 0.02, mu_2 = 0.03, v1 = 0.10, v2 = 0.15, q1 = 0.0, q2 = 0.0, K = 10, T = 1, rho = 0.80, r = 0.05, n = 10000)\n",
        "plt.hist(dist,bins = 100, color = 'orange');\n",
        "plt.title(f'Discounted Payoff for 2n Paths');\n",
        "plt.xlabel('Discounted Payoff Price');\n",
        "plt.ylabel('Frequency');"
      ],
      "metadata": {
        "colab": {
          "base_uri": "https://localhost:8080/",
          "height": 472
        },
        "id": "KATwBreposVp",
        "outputId": "56322308-7b91-494a-fe80-6da932136efb"
      },
      "execution_count": 5,
      "outputs": [
        {
          "output_type": "display_data",
          "data": {
            "text/plain": [
              "<Figure size 640x480 with 1 Axes>"
            ],
            "image/png": "[encoded data removed]"
          },
          "metadata": {}
        }
      ]
    },
    {
      "cell_type": "markdown",
      "source": [
        "We can also find the distribution of the option prices."
      ],
      "metadata": {
        "id": "jjysLUQHuYBn"
      }
    },
    {
      "cell_type": "code",
      "source": [
        "def dist_optionprices(S0_1, S0_2, mu_1, mu_2, v1, v2, q1, q2, K, T, rho, r, n, N): # Return a array of N prices simulated\n",
        "    prices = []\n",
        "    for i in range(N):\n",
        "        price = sim_option_price(S0_1, S0_2, mu_1, mu_2, v1, v2, q1, q2, K, T, rho, r, n)\n",
        "        prices.append(price[0])\n",
        "    return np.array(prices)"
      ],
      "metadata": {
        "id": "b4WrxOjSuYU6"
      },
      "execution_count": 6,
      "outputs": []
    },
    {
      "cell_type": "code",
      "source": [
        "## Function to simulate N option prices (where each option price it the mean of 2n stock paths for S1 and S2 w/ Antithetic Sampling)\n",
        "\n",
        "def plotdist_optionprices(S0_1, S0_2, mu_1, mu_2, v1, v2, q1, q2, K, T, rho, r, n, N): # Return a plot\n",
        "    prices = []\n",
        "    for i in range(N):\n",
        "        price = sim_option_price(S0_1, S0_2, mu_1, mu_2, v1, v2, q1, q2, K, T, rho, r, n)\n",
        "        prices.append(price[0])\n",
        "\n",
        "    fig, ax = plt.subplots()\n",
        "    ax.hist(prices, bins=100, color='red')\n",
        "    ax.set_title('Distribution of Spread Option Prices')\n",
        "    ax.set_xlabel('Price')\n",
        "    ax.set_ylabel('Frequency')\n",
        "    ax.axvline(np.mean(prices), color='black', label=f'Mean = {np.mean(prices):.2f}')\n",
        "    ax.legend()\n",
        "\n",
        "#Example\n",
        "\n",
        "plotdist_optionprices(S0_1 = 300, S0_2 = 100, mu_1 = 0.02, mu_2 = 0.03, v1 = 0.10, v2 = 0.15, q1 = 0.0, q2 = 0.0, K = 10, T = 1, rho = 0.80, r = 0.05, n = 10000, N = 10000)"
      ],
      "metadata": {
        "colab": {
          "base_uri": "https://localhost:8080/",
          "height": 472
        },
        "id": "5NqgJA8UubCr",
        "outputId": "2c607d2b-dfca-42b2-ca2a-6505662b9435"
      },
      "execution_count": 7,
      "outputs": [
        {
          "output_type": "display_data",
          "data": {
            "text/plain": [
              "<Figure size 640x480 with 1 Axes>"
            ],
            "image/png": "[encoded data removed]"
          },
          "metadata": {}
        }
      ]
    },
    {
      "cell_type": "markdown",
      "source": [
        "# Part B & C - Adjusted Antithetical Sampling"
      ],
      "metadata": {
        "id": "Vsv7MWRRyIjF"
      }
    },
    {
      "cell_type": "code",
      "source": [
        "def simulateS1adj(S01, mu1, v1, q1, T, n): #parameters for asset 1\n",
        "    rng = np.random.default_rng()  # set generator PCG64\n",
        "    Z1 = rng.normal(0.0, 1.0, size=2*n)  # 2n standard normal random variables\n",
        "    Z1_antithetic = -Z1\n",
        "\n",
        "    ST_original = S01 * np.exp((mu1 - q1 - (v1 ** 2) / 2) * T + v1 * np.sqrt(T) * Z1)\n",
        "    ST_antithetic = S01 * np.exp((mu1 - q1 - (v1 ** 2) / 2) * T + v1 * np.sqrt(T) * Z1_antithetic)\n",
        "\n",
        "    ST = np.concatenate((ST_original, ST_antithetic))\n",
        "    return ST\n",
        "\n",
        "def simulateS2adj(S02, mu2, v2, q2, T, rho, n):\n",
        "    rng = np.random.default_rng()  # Random number generator\n",
        "    Z = rng.normal(0.0, 1.0, size=(2, n))  # Generate (z, w) samples\n",
        "    Z1, Z2 = Z\n",
        "    Z1_antithetic = -Z1\n",
        "    Z2_antithetic = -Z2\n",
        "    ST1_ = S02 * np.exp((mu2 - q2 - (v2 ** 2) / 2) * T + rho * v2 * Z1 * np.sqrt(T) + np.sqrt(1 - rho ** 2) * v2 * Z2 * np.sqrt(T))\n",
        "    ST2_ = S02 * np.exp((mu2 - q2 - (v2 ** 2) / 2) * T + rho * v2 * Z1_antithetic * np.sqrt(T) + np.sqrt(1 - rho ** 2) * v2 * Z2 * np.sqrt(T))\n",
        "    ST3_ = S02 * np.exp((mu2 - q2 - (v2 ** 2) / 2) * T + rho * v2 * Z1 * np.sqrt(T) + np.sqrt(1 - rho ** 2) * v2 * Z2_antithetic * np.sqrt(T))\n",
        "    ST4_ = S02 * np.exp((mu2 - q2 - (v2 ** 2) / 2) * T + rho * v2 * Z1_antithetic * np.sqrt(T) + np.sqrt(1 - rho ** 2) * v2 * Z2_antithetic * np.sqrt(T))\n",
        "    ST2 = np.concatenate([ST1_, ST2_, ST3_, ST4_])\n",
        "\n",
        "    return ST2"
      ],
      "metadata": {
        "id": "Ft1KE_SxySmO"
      },
      "execution_count": 8,
      "outputs": []
    },
    {
      "cell_type": "code",
      "source": [
        "def sim_option_priceadj(S0_1, S0_2, mu_1, mu_2, v1, v2, q1, q2, K, T, rho, r, n): #both paths should have same # of paths so I have only included n (as opposed to n1,n2)\n",
        "    \"\"\"Standard Antithetic Sampling\"\"\"\n",
        "    S1 = simulateS1adj(S01 = S0_1, mu1 = mu_1, v1 = v1, q1 = q1, T = T, n = n)\n",
        "    S2 = simulateS2adj(S02 = S0_2, mu2 = mu_2, v2 = v2, q2 = q2, T = T, rho = rho, n = n)\n",
        "    payoff = np.maximum(S1 - S2 - K, 0)\n",
        "    disc_payoffs = np.exp(-r * T) * payoff\n",
        "    sim_price = np.mean(disc_payoffs)\n",
        "    err_bound = 1.96 * disc_payoffs.std(ddof=1)/np.sqrt(n)\n",
        "    sim_price, err_bound\n",
        "    return [sim_price, err_bound]"
      ],
      "metadata": {
        "id": "sTqq8vNUDqRO"
      },
      "execution_count": 9,
      "outputs": []
    },
    {
      "cell_type": "markdown",
      "source": [
        "Consider the following example:"
      ],
      "metadata": {
        "id": "KKtivAAhHUhZ"
      }
    },
    {
      "cell_type": "code",
      "source": [
        "S0_1, S0_2, mu_1, mu_2, v1, v2, q1, q2, K, T, rho, r, n = 110, 100, 0.02, 0.03, 0.10, 0.15, 0.0, 0.0, 10, 1, 0.80, 0.05, 10**5\n",
        "\n",
        "#Adjusted Method Price\n",
        "price, errorbound = sim_option_priceadj(S0_1, S0_2, mu_1, mu_2, v1, v2, q1, q2, K, T, rho, r, n)\n",
        "print(f'price = {round(price,2)}\\nerror bound = {round(errorbound,6)}')"
      ],
      "metadata": {
        "colab": {
          "base_uri": "https://localhost:8080/",
          "height": 0
        },
        "id": "pE-Uyb-MHWa4",
        "outputId": "ffea00af-5673-48a5-b065-213c118a75a6"
      },
      "execution_count": 10,
      "outputs": [
        {
          "output_type": "stream",
          "name": "stdout",
          "text": [
            "price = 6.84\n",
            "error bound = 0.062239\n"
          ]
        }
      ]
    },
    {
      "cell_type": "markdown",
      "source": [
        "Now calculating the price of both methods for N simulations and determining if there truly is a variance reduction with the adjusted method."
      ],
      "metadata": {
        "id": "khaBv1xYHYm6"
      }
    },
    {
      "cell_type": "code",
      "source": [
        "#Set N\n",
        "N = 1000\n",
        "\n",
        "#Loop both methods N times\n",
        "prices = []\n",
        "pricesadj = []\n",
        "for i in range(N):\n",
        "    price = sim_option_price(S0_1, S0_2, mu_1, mu_2, v1, v2, q1, q2, K, T, rho, r, n)\n",
        "    prices.append(price[0])\n",
        "\n",
        "    priceadj = sim_option_priceadj(S0_1, S0_2, mu_1, mu_2, v1, v2, q1, q2, K, T, rho, r, n)\n",
        "    pricesadj.append(priceadj[0])"
      ],
      "metadata": {
        "id": "PO3wI9_XFw70"
      },
      "execution_count": 11,
      "outputs": []
    },
    {
      "cell_type": "markdown",
      "source": [
        "Visualize both methods."
      ],
      "metadata": {
        "id": "IojQoh43QJMD"
      }
    },
    {
      "cell_type": "code",
      "source": [
        "fig, ax = plt.subplots()\n",
        "ax.hist(prices, bins=100, color='red',label = 'Regular Antithetic',alpha = 1)\n",
        "ax.hist(pricesadj, bins=100, color='orange', label = 'Adjusted Antithetic', alpha = 1)\n",
        "ax.set_title('Distribution of Spread Option Prices')\n",
        "ax.set_xlabel('Price')\n",
        "ax.set_ylabel('Frequency')\n",
        "ax.axvline(np.mean(prices), color='black', label=f'Mean = {np.mean(prices):.2f}')\n",
        "ax.legend()"
      ],
      "metadata": {
        "colab": {
          "base_uri": "https://localhost:8080/",
          "height": 489
        },
        "id": "f7vgX7lvQI8I",
        "outputId": "51ea838d-afd0-4415-974a-cb2713160001"
      },
      "execution_count": 12,
      "outputs": [
        {
          "output_type": "execute_result",
          "data": {
            "text/plain": [
              "<matplotlib.legend.Legend at 0x7fbed873d6d0>"
            ]
          },
          "metadata": {},
          "execution_count": 12
        },
        {
          "output_type": "display_data",
          "data": {
            "text/plain": [
              "<Figure size 640x480 with 1 Axes>"
            ],
            "image/png": "[encoded data removed]"
          },
          "metadata": {}
        }
      ]
    },
    {
      "cell_type": "markdown",
      "source": [
        "Clearly, we can see the adjusted antithetic method has a smaller variance and appears to even have a lower kurtosis!  Let us calculate the variance reduction between the two methods, regular antithetical vs adjusted antithetical."
      ],
      "metadata": {
        "id": "RdNpLn4iQ1ne"
      }
    },
    {
      "cell_type": "code",
      "source": [
        "variance_regular = np.var(np.array(prices))\n",
        "variance_adjusted = np.var(np.array(pricesadj))\n",
        "print(f'The variance of the regular antithetic sampling method is {variance_regular:4f}.\\nThe variance of the adjusted anthithetic sampling method is {variance_adjusted:4f}.')\n",
        "print(f'Therefore, the adjusted method attains an approximate {100 - round((variance_adjusted/variance_regular)*100,2)}% reduction in variance')"
      ],
      "metadata": {
        "colab": {
          "base_uri": "https://localhost:8080/",
          "height": 0
        },
        "id": "8Dgc1eQ0GCd1",
        "outputId": "c681d1b7-7732-4e4e-95b9-3a6f37b8a2d3"
      },
      "execution_count": 13,
      "outputs": [
        {
          "output_type": "stream",
          "name": "stdout",
          "text": [
            "The variance of the regular antithetic sampling method is 0.000279.\n",
            "The variance of the adjusted anthithetic sampling method is 0.000093.\n",
            "Therefore, the adjusted method attains an approximate 66.45% reduction in variance\n"
          ]
        }
      ]
    },
    {
      "cell_type": "markdown",
      "source": [
        "We can conclude that the method of using 4 variates $(Z_1, Z_2), (Z_1, -Z_2), (-Z_1, Z_2), (-Z_1, -Z_2)$ provides significant variance reduction."
      ],
      "metadata": {
        "id": "RdECH-ovKRFc"
      }
    },
    {
      "cell_type": "markdown",
      "source": [
        "# Part D - Relative Error Bound"
      ],
      "metadata": {
        "id": "pXWmd1sWKdZv"
      }
    },
    {
      "cell_type": "markdown",
      "source": [
        "Ideally, we want to find n such that the error bound is less than 0.1% of the price."
      ],
      "metadata": {
        "id": "L7z54L4zS1ul"
      }
    },
    {
      "cell_type": "code",
      "source": [
        "S0_1, S0_2, mu_1, mu_2, v1, v2, q1, q2, K, T, rho, r = 110, 100, 0.02, 0.03, 0.10, 0.15, 0.0, 0.0, 10, 1, 0.80, 0.05\n",
        "\n",
        "#Part A Method Price for varying n\n",
        "n = [10**i for i in range(2,8)]\n",
        "errorbound_dict = {n_i:[] for n_i in n}\n",
        "for n_i in n:\n",
        "  price, errorbound = sim_option_price(S0_1, S0_2, mu_1, mu_2, v1, v2, q1, q2, K, T, rho, r, n_i)\n",
        "  errorbound_dict[n_i].extend([price, errorbound])\n",
        "\n",
        "df = pd.DataFrame(errorbound_dict).T\n",
        "df = df.reset_index().rename(columns = {'index':'n', 0:'Price', 1:'ErrorBound'})\n",
        "df['Err/Price'] = df['ErrorBound']/df['Price']\n",
        "df['Err/Price (%)'] = 100 * df['Err/Price']\n",
        "df['[n = valid]'] = df['Err/Price (%)'].apply(lambda x: True if x < 0.1 else False)\n",
        "print(df)"
      ],
      "metadata": {
        "colab": {
          "base_uri": "https://localhost:8080/",
          "height": 0
        },
        "id": "txmQklZ3UghV",
        "outputId": "18a12343-36b0-4a6d-c163-1704169235db"
      },
      "execution_count": 14,
      "outputs": [
        {
          "output_type": "stream",
          "name": "stdout",
          "text": [
            "          n     Price  ErrorBound  Err/Price  Err/Price (%)  [n = valid]\n",
            "0       100  7.118657    1.888819   0.265334      26.533363        False\n",
            "1      1000  6.853791    0.624355   0.091096       9.109631        False\n",
            "2     10000  6.896492    0.198448   0.028775       2.877520        False\n",
            "3    100000  6.817595    0.062057   0.009103       0.910253        False\n",
            "4   1000000  6.851932    0.019698   0.002875       0.287486        False\n",
            "5  10000000  6.846443    0.006225   0.000909       0.090917         True\n"
          ]
        }
      ]
    },
    {
      "cell_type": "markdown",
      "source": [
        "Therefore, for $n = 10000000 = 10^7$ the % error bound relative to the price is less than 0.1%"
      ],
      "metadata": {
        "id": "-EymOllUUJqS"
      }
    },
    {
      "cell_type": "markdown",
      "source": [
        "# Part E - Kirks' Approximation"
      ],
      "metadata": {
        "id": "LTjdBcUzWLiA"
      }
    },
    {
      "cell_type": "markdown",
      "source": [
        "Below is Kirks' formula for a call option on the spread of two asset prices:\n",
        "\n",
        "\n",
        "$C_K = e^{-rT} \\left[ F_1 N(d_1) - (F_2 + K) N(d_2) \\right]$\n",
        "\n",
        "\n",
        "Where:\n",
        "\n",
        "\n",
        "$F_1 = S_1(0)e^{\\mu_1 T}, \\quad F_2 = S_2(0)e^{\\mu_2 T}$\n",
        "\n",
        "\n",
        "\n",
        "$d_1 = \\frac{\\ln\\left(\\frac{F_1}{F_2 + K}\\right) + \\frac{\\sigma_K^2 T}{2}}{\\sigma_K \\sqrt{T}}$\n",
        "\n",
        "\n",
        "\n",
        "$d_2 = d_1 - \\sigma_K \\sqrt{T}$\n",
        "\n",
        "\n",
        "\n",
        "$\\sigma_K = \\sqrt{\\sigma_1^2 - 2 \\left(\\frac{F_2}{F_2 + K}\\right) \\rho \\sigma_1 \\sigma_2 + \\left(\\frac{F_2}{F_2 + K}\\right)^2 \\sigma_2^2}$\n",
        "\n",
        "---\n",
        "\n",
        "$^1 \\text{E. Kirk and J. Aron, Correlation in the energy markets, Managing energy price risk, 1 (1995), pp. 71–78}$\n",
        "\n",
        "\n"
      ],
      "metadata": {
        "id": "WpHVJVOnWk0A"
      }
    },
    {
      "cell_type": "code",
      "source": [
        "S0_1, S0_2, mu_1, mu_2, v1, v2, K, T, rho, r = 110, 100, 0.02, 0.03, 0.10, 0.15, 10, 1, 0.80, 0.05\n",
        "\n",
        "def kirk_price(S0_1, S0_2, mu_1, mu_2, v1, v2, K, T, rho, r):\n",
        "  F1 = S0_1 * np.exp(mu_1*T)\n",
        "  F2 = S0_2 * np.exp(mu_2*T)\n",
        "  vK = np.sqrt(v1**2 - 2*(F2/(F2+K))*rho*v1*v2 + ((F2/(F2+K))**2)*(v2**2))\n",
        "  d1 = (np.log(F1/(F2+K)) + ((vK**2)*T)/2) / (vK * np.sqrt(T))\n",
        "  d2 = d1 - vK * np.sqrt(T)\n",
        "  CK = np.exp(-r*T) * (F1*norm.cdf(d1) - (F2+K)*norm.cdf(d2))\n",
        "  return CK"
      ],
      "metadata": {
        "id": "bhbxF8JtWY2S"
      },
      "execution_count": 15,
      "outputs": []
    },
    {
      "cell_type": "markdown",
      "source": [
        "# Part F & G - Adjust Strikes & Correlation"
      ],
      "metadata": {
        "id": "rbL6wI2lZxtN"
      }
    },
    {
      "cell_type": "markdown",
      "source": [
        "We will use n from part D and get the price and error bound for varying strikes and correlations.  We will also get the price for these varied parameters."
      ],
      "metadata": {
        "id": "H3jCPezPjAc9"
      }
    },
    {
      "cell_type": "code",
      "source": [
        "n_partd = df['n'].loc[df['[n = valid]'] == True].values[0]\n",
        "K_list = [5*i for i in range(-4,5)]\n",
        "rho_list = [-1.0, -0.5, 0, 0.4, 0.8, 1.0]\n",
        "\n",
        "#initialize error dictionary with the keys being a tuple (strike, rho)\n",
        "error_dict = {}\n",
        "\n",
        "S0_1, S0_2, mu_1, mu_2, v1, v2, q1, q2, T, r = 110, 100, 0.02, 0.03, 0.10, 0.15, 0.0, 0.0, 1, 0.05\n",
        "for k_i in K_list:\n",
        "  for rho_j in rho_list:\n",
        "    ptA_price = sim_option_price(S0_1, S0_2, mu_1, mu_2, v1, v2, q1, q2, k_i, T, rho_j, r, n_partd)\n",
        "    error_dict[k_i, rho_j] = ptA_price\n",
        "\n",
        "errorA_df = pd.DataFrame(error_dict).T.rename(columns={0:'ptA Price',1:'ptA ErrorBound'})"
      ],
      "metadata": {
        "id": "QknNmfSgYJRQ"
      },
      "execution_count": 16,
      "outputs": []
    },
    {
      "cell_type": "code",
      "source": [
        "ptA_dict_price = {}\n",
        "ptA_dict_errbound = {}\n",
        "\n",
        "rho_index_map = {rho: idx for idx, rho in enumerate(rho_list)}\n",
        "\n",
        "for k_i in K_list:\n",
        "    for rho_j in rho_list:\n",
        "        ptA_price = sim_option_price(S0_1, S0_2, mu_1, mu_2, v1, v2, q1, q2, k_i, T, rho_j, r, n_partd)\n",
        "        ptA_dict_price[(k_i, rho_j)] = ptA_price[0]\n",
        "        ptA_dict_errbound[(k_i, rho_j)] = ptA_price[1]\n",
        "\n",
        "ptA_price_df = pd.DataFrame(index=K_list, columns=rho_list)\n",
        "ptA_errorbound_df = pd.DataFrame(index=K_list, columns=rho_list)\n",
        "\n",
        "for (k_i, rho_j), price in ptA_dict_price.items():\n",
        "    ptA_price_df.loc[k_i, rho_j] = price\n",
        "\n",
        "for (k_i, rho_j), err_bound in ptA_dict_errbound.items():\n",
        "    ptA_errorbound_df.loc[k_i, rho_j] = err_bound"
      ],
      "metadata": {
        "id": "1Kp1bcCeWeng"
      },
      "execution_count": 17,
      "outputs": []
    },
    {
      "cell_type": "markdown",
      "source": [
        "Print both of these 2d grids.  The grids are the MC prices for the spread option from part A grid and the error bound from the same MC simulation grid respectively."
      ],
      "metadata": {
        "id": "j75MWV2hXz6w"
      }
    },
    {
      "cell_type": "code",
      "source": [
        "print(ptA_price_df)\n",
        "#price from part A 2d grid; row is strikes and column is rho (correlation)"
      ],
      "metadata": {
        "colab": {
          "base_uri": "https://localhost:8080/",
          "height": 0
        },
        "id": "wLIg61w0XDJZ",
        "outputId": "506e8155-307f-4ad4-b04a-205ad6a07193"
      },
      "execution_count": 77,
      "outputs": [
        {
          "output_type": "stream",
          "name": "stdout",
          "text": [
            "          -1.0       -0.5        0.0        0.4        0.8        1.0\n",
            "-20  28.381249  28.380856  28.382159  28.381151  28.381882  28.381219\n",
            "-15  24.031121   24.02993  24.030944  24.029453  24.031041  24.028982\n",
            "-10  19.889563  19.888678  19.888832  19.889765  19.888767  19.890096\n",
            "-5   16.028468  16.029872  16.028537  16.030896  16.029691  16.028881\n",
            " 0   12.523955  12.522878  12.521852  12.524604   12.52461  12.521402\n",
            " 5    9.446082   9.446088   9.442796   9.444086    9.44599   9.446518\n",
            " 10   6.846748   6.845155    6.84529   6.847412   6.842243   6.844271\n",
            " 15   4.742597   4.746237   4.746161   4.744964   4.744125   4.744601\n",
            " 20    3.13319    3.13288   3.131134   3.132962   3.130701   3.135725\n"
          ]
        }
      ]
    },
    {
      "cell_type": "code",
      "source": [
        "print(ptA_errorbound_df)\n",
        "#error bound 2d grid; row is strikes and column is rho (correlation)"
      ],
      "metadata": {
        "colab": {
          "base_uri": "https://localhost:8080/",
          "height": 0
        },
        "id": "lP7qXw4hX355",
        "outputId": "a956707b-19e8-4316-bcac-16bcfd3530d5"
      },
      "execution_count": 78,
      "outputs": [
        {
          "output_type": "stream",
          "name": "stdout",
          "text": [
            "         -1.0      -0.5       0.0       0.4       0.8       1.0\n",
            "-20  0.010507  0.010506  0.010506  0.010503   0.01051  0.010502\n",
            "-15  0.010114  0.010111  0.010113   0.01011  0.010113   0.01011\n",
            "-10  0.009591  0.009589  0.009589  0.009591   0.00959   0.00959\n",
            "-5   0.008928   0.00893  0.008927  0.008931   0.00893  0.008929\n",
            " 0   0.008129  0.008129  0.008128   0.00813   0.00813  0.008127\n",
            " 5   0.007216  0.007215  0.007214  0.007214  0.007216  0.007218\n",
            " 10  0.006226  0.006224  0.006224  0.006225  0.006223  0.006224\n",
            " 15    0.0052  0.005203  0.005203  0.005201  0.005202  0.005201\n",
            " 20  0.004206  0.004205  0.004204  0.004205  0.004205  0.004208\n"
          ]
        }
      ]
    },
    {
      "cell_type": "code",
      "source": [
        "n_partd = df['n'].loc[df['[n = valid]'] == True].values[0]\n",
        "K_list = [5*i for i in range(-4,5)]\n",
        "rho_list = [-1.0, -0.5, 0, 0.4, 0.8, 1.0]\n",
        "\n",
        "#initialize error dictionary with the keys being a tuple (strike, rho)\n",
        "error_dict_KIRK = {}\n",
        "\n",
        "S0_1, S0_2, mu_1, mu_2, v1, v2, q1, q2, T, r = 110, 100, 0.02, 0.03, 0.10, 0.15, 0.0, 0.0, 1, 0.05\n",
        "for k_i in K_list:\n",
        "  for rho_j in rho_list:\n",
        "    ptA_price = kirk_price(S0_1, S0_2, mu_1, mu_2, v1, v2, k_i, T, rho_j, r)\n",
        "    error_dict_KIRK[k_i, rho_j] = ptA_price\n",
        "\n",
        "df_KIRK = pd.DataFrame(error_dict_KIRK, index = ['KIRK price']).T"
      ],
      "metadata": {
        "id": "yjDB7MP4hMSa"
      },
      "execution_count": 21,
      "outputs": []
    },
    {
      "cell_type": "markdown",
      "source": [
        "Easier visualization in 2d grid below of the KIRK prices plotted against stikes and correlation."
      ],
      "metadata": {
        "id": "pIiwwZzEYGPt"
      }
    },
    {
      "cell_type": "code",
      "source": [
        "grid_KIRK = {}\n",
        "for (strike, strike_value), value in error_dict_KIRK.items():\n",
        "    if strike_value not in grid_KIRK:\n",
        "        grid_KIRK[strike_value] = {}\n",
        "    grid_KIRK[strike_value][strike] = value\n",
        "\n",
        "grid_KIRK = pd.DataFrame(grid_KIRK)\n",
        "\n",
        "##2d grid\n",
        "print(grid_KIRK)\n",
        "#KIRK 2d grid; row is strikes and column is rho (correlation)"
      ],
      "metadata": {
        "colab": {
          "base_uri": "https://localhost:8080/",
          "height": 0
        },
        "id": "Ar2k9NuvV9Eu",
        "outputId": "50939217-bb0f-4d9b-af4f-129006908ec6"
      },
      "execution_count": 79,
      "outputs": [
        {
          "output_type": "stream",
          "name": "stdout",
          "text": [
            "          -1.0       -0.5        0.0        0.4        0.8        1.0\n",
            "-20  29.720274  29.050097  28.424186  28.012010  27.778323  27.754199\n",
            "-15  25.693495  24.876972  24.063695  23.467990  23.057489  22.998851\n",
            "-10  21.893026  20.927868  19.909679  19.086480  18.392380  18.245794\n",
            "-5   18.360293  17.257320  16.036636  14.962105  13.863209  13.503860\n",
            " 0   15.133217  13.917957  12.523665  11.212866   9.632542   8.821249\n",
            " 5   12.242485  10.954267   9.443065   7.962115   5.962848   4.441995\n",
            " 10   9.708207   8.396465   6.847015   5.308465   3.150667   1.209305\n",
            " 15   7.537563   6.255866   4.756230   3.294134   1.354466   0.072434\n",
            " 20   5.723904   4.522953   3.154641   1.887766   0.451912   0.000115\n"
          ]
        }
      ]
    },
    {
      "cell_type": "markdown",
      "source": [
        "# Part H & I & J - Difference in Methods"
      ],
      "metadata": {
        "id": "t3mTwWQgYJIp"
      }
    },
    {
      "cell_type": "markdown",
      "source": [
        "We will now compare the valuation in part A with Kirks' valuation while using the optimized n from part D.\n",
        "\n",
        "Denote $error_n = C_K - V_n$ ."
      ],
      "metadata": {
        "id": "nFtpSbyqZ1or"
      }
    },
    {
      "cell_type": "code",
      "source": [
        "df_concat = pd.concat([errorA_df,df_KIRK], axis = 1)\n",
        "df_concat['error_n'] = df_concat['KIRK price'] - df_concat['ptA Price']\n",
        "error_n = df_concat['error_n'].values"
      ],
      "metadata": {
        "id": "IPWKF_vPjL7s"
      },
      "execution_count": 33,
      "outputs": []
    },
    {
      "cell_type": "code",
      "source": [
        "err_n_df = grid_KIRK - ptA_price_df #2d grid of the difference in values of KIRK and PtA price; row is strikes and column is rho\n",
        "print(err_n_df)"
      ],
      "metadata": {
        "colab": {
          "base_uri": "https://localhost:8080/",
          "height": 0
        },
        "id": "_QsSipmCYoWP",
        "outputId": "f661e758-03d9-4cb7-8cf8-15171141b440"
      },
      "execution_count": 80,
      "outputs": [
        {
          "output_type": "stream",
          "name": "stdout",
          "text": [
            "         -1.0      -0.5       0.0       0.4       0.8       1.0\n",
            "-20  1.339025  0.669241  0.042028 -0.369141 -0.603559  -0.62702\n",
            "-15  1.662374  0.847041   0.03275 -0.561463 -0.973552 -1.030131\n",
            "-10  2.003463   1.03919  0.020847 -0.803285 -1.496387 -1.644302\n",
            "-5   2.331825  1.227448  0.008099  -1.06879 -2.166482 -2.525021\n",
            " 0   2.609261  1.395078  0.001814 -1.311738 -2.892068 -3.700153\n",
            " 5   2.796403  1.508179   0.00027 -1.481971 -3.483142 -5.004523\n",
            " 10  2.861458  1.551309  0.001725 -1.538947 -3.691576 -5.634966\n",
            " 15  2.794966  1.509629  0.010069 -1.450829 -3.389659 -4.672167\n",
            " 20  2.590714  1.390072  0.023507 -1.245196 -2.678789  -3.13561\n"
          ]
        }
      ]
    },
    {
      "cell_type": "markdown",
      "source": [
        "Now to determine the proportion of KIRK approximations that fall within our 95% Confidence Interval!"
      ],
      "metadata": {
        "id": "6fGNH4q6m94P"
      }
    },
    {
      "cell_type": "code",
      "source": [
        "df_concat['ptA LowerBound'] = df_concat['ptA Price'] - df_concat['ptA ErrorBound']\n",
        "df_concat['ptA UpperBound'] = df_concat['ptA Price'] + df_concat['ptA ErrorBound']\n",
        "df_concat['KIRK > LB'] = df_concat['KIRK price'] > df_concat['ptA LowerBound']\n",
        "df_concat['KIRK < UB'] = df_concat['KIRK price'] < df_concat['ptA UpperBound']\n",
        "df_concat['Within CI'] = df_concat['KIRK < UB'] & df_concat['KIRK > LB']\n",
        "df_concat = df_concat.drop(columns = ['KIRK > LB', 'KIRK < UB'])\n",
        "df_concat.head(15) #printed out 15 rows, there are more..."
      ],
      "metadata": {
        "colab": {
          "base_uri": "https://localhost:8080/",
          "height": 519
        },
        "id": "Tceu8XVLhlKP",
        "outputId": "16f522d6-9a10-40d0-acd8-5e51fd772302"
      },
      "execution_count": 87,
      "outputs": [
        {
          "output_type": "execute_result",
          "data": {
            "text/plain": [
              "          ptA Price  ptA ErrorBound  KIRK price   error_n  ptA LowerBound  \\\n",
              "-20 -1.0  28.379245        0.010503   29.720274  1.341030       28.368742   \n",
              "    -0.5  28.381242        0.010507   29.050097  0.668855       28.370735   \n",
              "     0.0  28.380976        0.010503   28.424186  0.043210       28.370474   \n",
              "     0.4  28.380754        0.010505   28.012010 -0.368743       28.370248   \n",
              "     0.8  28.381022        0.010504   27.778323 -0.602699       28.370518   \n",
              "     1.0  28.380712        0.010506   27.754199 -0.626512       28.370206   \n",
              "-15 -1.0  24.030851        0.010112   25.693495  1.662644       24.020739   \n",
              "    -0.5  24.030829        0.010114   24.876972  0.846143       24.020714   \n",
              "     0.0  24.029878        0.010109   24.063695  0.033816       24.019769   \n",
              "     0.4  24.030205        0.010112   23.467990 -0.562215       24.020093   \n",
              "     0.8  24.030676        0.010113   23.057489 -0.973186       24.020563   \n",
              "     1.0  24.030360        0.010111   22.998851 -1.031509       24.020250   \n",
              "-10 -1.0  19.888179        0.009588   21.893026  2.004847       19.878592   \n",
              "    -0.5  19.888726        0.009589   20.927868  1.039142       19.879137   \n",
              "     0.0  19.888474        0.009588   19.909679  0.021205       19.878886   \n",
              "\n",
              "          ptA UpperBound  Within CI  \n",
              "-20 -1.0       28.389747      False  \n",
              "    -0.5       28.391748      False  \n",
              "     0.0       28.391479      False  \n",
              "     0.4       28.391259      False  \n",
              "     0.8       28.391526      False  \n",
              "     1.0       28.391218      False  \n",
              "-15 -1.0       24.040963      False  \n",
              "    -0.5       24.040943      False  \n",
              "     0.0       24.039987      False  \n",
              "     0.4       24.040317      False  \n",
              "     0.8       24.040789      False  \n",
              "     1.0       24.040471      False  \n",
              "-10 -1.0       19.897767      False  \n",
              "    -0.5       19.898315      False  \n",
              "     0.0       19.898062      False  "
            ],
            "text/html": [
              "\n",
              "  <div id=\"df-1a16aa8b-edb6-4824-ad77-3379f958a95e\" class=\"colab-df-container\">\n",
              "    <div>\n",
              "<style scoped>\n",
              "    .dataframe tbody tr th:only-of-type {\n",
              "        vertical-align: middle;\n",
              "    }\n",
              "\n",
              "    .dataframe tbody tr th {\n",
              "        vertical-align: top;\n",
              "    }\n",
              "\n",
              "    .dataframe thead th {\n",
              "        text-align: right;\n",
              "    }\n",
              "</style>\n",
              "<table border=\"1\" class=\"dataframe\">\n",
              "  <thead>\n",
              "    <tr style=\"text-align: right;\">\n",
              "      <th></th>\n",
              "      <th></th>\n",
              "      <th>ptA Price</th>\n",
              "      <th>ptA ErrorBound</th>\n",
              "      <th>KIRK price</th>\n",
              "      <th>error_n</th>\n",
              "      <th>ptA LowerBound</th>\n",
              "      <th>ptA UpperBound</th>\n",
              "      <th>Within CI</th>\n",
              "    </tr>\n",
              "  </thead>\n",
              "  <tbody>\n",
              "    <tr>\n",
              "      <th rowspan=\"6\" valign=\"top\">-20</th>\n",
              "      <th>-1.0</th>\n",
              "      <td>28.379245</td>\n",
              "      <td>0.010503</td>\n",
              "      <td>29.720274</td>\n",
              "      <td>1.341030</td>\n",
              "      <td>28.368742</td>\n",
              "      <td>28.389747</td>\n",
              "      <td>False</td>\n",
              "    </tr>\n",
              "    <tr>\n",
              "      <th>-0.5</th>\n",
              "      <td>28.381242</td>\n",
              "      <td>0.010507</td>\n",
              "      <td>29.050097</td>\n",
              "      <td>0.668855</td>\n",
              "      <td>28.370735</td>\n",
              "      <td>28.391748</td>\n",
              "      <td>False</td>\n",
              "    </tr>\n",
              "    <tr>\n",
              "      <th>0.0</th>\n",
              "      <td>28.380976</td>\n",
              "      <td>0.010503</td>\n",
              "      <td>28.424186</td>\n",
              "      <td>0.043210</td>\n",
              "      <td>28.370474</td>\n",
              "      <td>28.391479</td>\n",
              "      <td>False</td>\n",
              "    </tr>\n",
              "    <tr>\n",
              "      <th>0.4</th>\n",
              "      <td>28.380754</td>\n",
              "      <td>0.010505</td>\n",
              "      <td>28.012010</td>\n",
              "      <td>-0.368743</td>\n",
              "      <td>28.370248</td>\n",
              "      <td>28.391259</td>\n",
              "      <td>False</td>\n",
              "    </tr>\n",
              "    <tr>\n",
              "      <th>0.8</th>\n",
              "      <td>28.381022</td>\n",
              "      <td>0.010504</td>\n",
              "      <td>27.778323</td>\n",
              "      <td>-0.602699</td>\n",
              "      <td>28.370518</td>\n",
              "      <td>28.391526</td>\n",
              "      <td>False</td>\n",
              "    </tr>\n",
              "    <tr>\n",
              "      <th>1.0</th>\n",
              "      <td>28.380712</td>\n",
              "      <td>0.010506</td>\n",
              "      <td>27.754199</td>\n",
              "      <td>-0.626512</td>\n",
              "      <td>28.370206</td>\n",
              "      <td>28.391218</td>\n",
              "      <td>False</td>\n",
              "    </tr>\n",
              "    <tr>\n",
              "      <th rowspan=\"6\" valign=\"top\">-15</th>\n",
              "      <th>-1.0</th>\n",
              "      <td>24.030851</td>\n",
              "      <td>0.010112</td>\n",
              "      <td>25.693495</td>\n",
              "      <td>1.662644</td>\n",
              "      <td>24.020739</td>\n",
              "      <td>24.040963</td>\n",
              "      <td>False</td>\n",
              "    </tr>\n",
              "    <tr>\n",
              "      <th>-0.5</th>\n",
              "      <td>24.030829</td>\n",
              "      <td>0.010114</td>\n",
              "      <td>24.876972</td>\n",
              "      <td>0.846143</td>\n",
              "      <td>24.020714</td>\n",
              "      <td>24.040943</td>\n",
              "      <td>False</td>\n",
              "    </tr>\n",
              "    <tr>\n",
              "      <th>0.0</th>\n",
              "      <td>24.029878</td>\n",
              "      <td>0.010109</td>\n",
              "      <td>24.063695</td>\n",
              "      <td>0.033816</td>\n",
              "      <td>24.019769</td>\n",
              "      <td>24.039987</td>\n",
              "      <td>False</td>\n",
              "    </tr>\n",
              "    <tr>\n",
              "      <th>0.4</th>\n",
              "      <td>24.030205</td>\n",
              "      <td>0.010112</td>\n",
              "      <td>23.467990</td>\n",
              "      <td>-0.562215</td>\n",
              "      <td>24.020093</td>\n",
              "      <td>24.040317</td>\n",
              "      <td>False</td>\n",
              "    </tr>\n",
              "    <tr>\n",
              "      <th>0.8</th>\n",
              "      <td>24.030676</td>\n",
              "      <td>0.010113</td>\n",
              "      <td>23.057489</td>\n",
              "      <td>-0.973186</td>\n",
              "      <td>24.020563</td>\n",
              "      <td>24.040789</td>\n",
              "      <td>False</td>\n",
              "    </tr>\n",
              "    <tr>\n",
              "      <th>1.0</th>\n",
              "      <td>24.030360</td>\n",
              "      <td>0.010111</td>\n",
              "      <td>22.998851</td>\n",
              "      <td>-1.031509</td>\n",
              "      <td>24.020250</td>\n",
              "      <td>24.040471</td>\n",
              "      <td>False</td>\n",
              "    </tr>\n",
              "    <tr>\n",
              "      <th rowspan=\"3\" valign=\"top\">-10</th>\n",
              "      <th>-1.0</th>\n",
              "      <td>19.888179</td>\n",
              "      <td>0.009588</td>\n",
              "      <td>21.893026</td>\n",
              "      <td>2.004847</td>\n",
              "      <td>19.878592</td>\n",
              "      <td>19.897767</td>\n",
              "      <td>False</td>\n",
              "    </tr>\n",
              "    <tr>\n",
              "      <th>-0.5</th>\n",
              "      <td>19.888726</td>\n",
              "      <td>0.009589</td>\n",
              "      <td>20.927868</td>\n",
              "      <td>1.039142</td>\n",
              "      <td>19.879137</td>\n",
              "      <td>19.898315</td>\n",
              "      <td>False</td>\n",
              "    </tr>\n",
              "    <tr>\n",
              "      <th>0.0</th>\n",
              "      <td>19.888474</td>\n",
              "      <td>0.009588</td>\n",
              "      <td>19.909679</td>\n",
              "      <td>0.021205</td>\n",
              "      <td>19.878886</td>\n",
              "      <td>19.898062</td>\n",
              "      <td>False</td>\n",
              "    </tr>\n",
              "  </tbody>\n",
              "</table>\n",
              "</div>\n",
              "    <div class=\"colab-df-buttons\">\n",
              "\n",
              "  <div class=\"colab-df-container\">\n",
              "    <button class=\"colab-df-convert\" onclick=\"convertToInteractive('df-1a16aa8b-edb6-4824-ad77-3379f958a95e')\"\n",
              "            title=\"Convert this dataframe to an interactive table.\"\n",
              "            style=\"display:none;\">\n",
              "\n",
              "  <svg xmlns=\"http://www.w3.org/2000/svg\" height=\"24px\" viewBox=\"0 -960 960 960\">\n",
              "    <path d=\"M120-120v-720h720v720H120Zm60-500h600v-160H180v160Zm220 220h160v-160H400v160Zm0 220h160v-160H400v160ZM180-400h160v-160H180v160Zm440 0h160v-160H620v160ZM180-180h160v-160H180v160Zm440 0h160v-160H620v160Z\"/>\n",
              "  </svg>\n",
              "    </button>\n",
              "\n",
              "  <style>\n",
              "    .colab-df-container {\n",
              "      display:flex;\n",
              "      gap: 12px;\n",
              "    }\n",
              "\n",
              "    .colab-df-convert {\n",
              "      background-color: #E8F0FE;\n",
              "      border: none;\n",
              "      border-radius: 50%;\n",
              "      cursor: pointer;\n",
              "      display: none;\n",
              "      fill: #1967D2;\n",
              "      height: 32px;\n",
              "      padding: 0 0 0 0;\n",
              "      width: 32px;\n",
              "    }\n",
              "\n",
              "    .colab-df-convert:hover {\n",
              "      background-color: #E2EBFA;\n",
              "      box-shadow: 0px 1px 2px rgba(60, 64, 67, 0.3), 0px 1px 3px 1px rgba(60, 64, 67, 0.15);\n",
              "      fill: #174EA6;\n",
              "    }\n",
              "\n",
              "    .colab-df-buttons div {\n",
              "      margin-bottom: 4px;\n",
              "    }\n",
              "\n",
              "    [theme=dark] .colab-df-convert {\n",
              "      background-color: #3B4455;\n",
              "      fill: #D2E3FC;\n",
              "    }\n",
              "\n",
              "    [theme=dark] .colab-df-convert:hover {\n",
              "      background-color: #434B5C;\n",
              "      box-shadow: 0px 1px 3px 1px rgba(0, 0, 0, 0.15);\n",
              "      filter: drop-shadow(0px 1px 2px rgba(0, 0, 0, 0.3));\n",
              "      fill: #FFFFFF;\n",
              "    }\n",
              "  </style>\n",
              "\n",
              "    <script>\n",
              "      const buttonEl =\n",
              "        document.querySelector('#df-1a16aa8b-edb6-4824-ad77-3379f958a95e button.colab-df-convert');\n",
              "      buttonEl.style.display =\n",
              "        google.colab.kernel.accessAllowed ? 'block' : 'none';\n",
              "\n",
              "      async function convertToInteractive(key) {\n",
              "        const element = document.querySelector('#df-1a16aa8b-edb6-4824-ad77-3379f958a95e');\n",
              "        const dataTable =\n",
              "          await google.colab.kernel.invokeFunction('convertToInteractive',\n",
              "                                                    [key], {});\n",
              "        if (!dataTable) return;\n",
              "\n",
              "        const docLinkHtml = 'Like what you see? Visit the ' +\n",
              "          '<a target=\"_blank\" href=https://colab.research.google.com/notebooks/data_table.ipynb>data table notebook</a>'\n",
              "          + ' to learn more about interactive tables.';\n",
              "        element.innerHTML = '';\n",
              "        dataTable['output_type'] = 'display_data';\n",
              "        await google.colab.output.renderOutput(dataTable, element);\n",
              "        const docLink = document.createElement('div');\n",
              "        docLink.innerHTML = docLinkHtml;\n",
              "        element.appendChild(docLink);\n",
              "      }\n",
              "    </script>\n",
              "  </div>\n",
              "\n",
              "\n",
              "<div id=\"df-e12cb8e9-8d73-4361-9c6a-23090b58303d\">\n",
              "  <button class=\"colab-df-quickchart\" onclick=\"quickchart('df-e12cb8e9-8d73-4361-9c6a-23090b58303d')\"\n",
              "            title=\"Suggest charts\"\n",
              "            style=\"display:none;\">\n",
              "\n",
              "<svg xmlns=\"http://www.w3.org/2000/svg\" height=\"24px\"viewBox=\"0 0 24 24\"\n",
              "     width=\"24px\">\n",
              "    <g>\n",
              "        <path d=\"M19 3H5c-1.1 0-2 .9-2 2v14c0 1.1.9 2 2 2h14c1.1 0 2-.9 2-2V5c0-1.1-.9-2-2-2zM9 17H7v-7h2v7zm4 0h-2V7h2v10zm4 0h-2v-4h2v4z\"/>\n",
              "    </g>\n",
              "</svg>\n",
              "  </button>\n",
              "\n",
              "<style>\n",
              "  .colab-df-quickchart {\n",
              "      --bg-color: #E8F0FE;\n",
              "      --fill-color: #1967D2;\n",
              "      --hover-bg-color: #E2EBFA;\n",
              "      --hover-fill-color: #174EA6;\n",
              "      --disabled-fill-color: #AAA;\n",
              "      --disabled-bg-color: #DDD;\n",
              "  }\n",
              "\n",
              "  [theme=dark] .colab-df-quickchart {\n",
              "      --bg-color: #3B4455;\n",
              "      --fill-color: #D2E3FC;\n",
              "      --hover-bg-color: #434B5C;\n",
              "      --hover-fill-color: #FFFFFF;\n",
              "      --disabled-bg-color: #3B4455;\n",
              "      --disabled-fill-color: #666;\n",
              "  }\n",
              "\n",
              "  .colab-df-quickchart {\n",
              "    background-color: var(--bg-color);\n",
              "    border: none;\n",
              "    border-radius: 50%;\n",
              "    cursor: pointer;\n",
              "    display: none;\n",
              "    fill: var(--fill-color);\n",
              "    height: 32px;\n",
              "    padding: 0;\n",
              "    width: 32px;\n",
              "  }\n",
              "\n",
              "  .colab-df-quickchart:hover {\n",
              "    background-color: var(--hover-bg-color);\n",
              "    box-shadow: 0 1px 2px rgba(60, 64, 67, 0.3), 0 1px 3px 1px rgba(60, 64, 67, 0.15);\n",
              "    fill: var(--button-hover-fill-color);\n",
              "  }\n",
              "\n",
              "  .colab-df-quickchart-complete:disabled,\n",
              "  .colab-df-quickchart-complete:disabled:hover {\n",
              "    background-color: var(--disabled-bg-color);\n",
              "    fill: var(--disabled-fill-color);\n",
              "    box-shadow: none;\n",
              "  }\n",
              "\n",
              "  .colab-df-spinner {\n",
              "    border: 2px solid var(--fill-color);\n",
              "    border-color: transparent;\n",
              "    border-bottom-color: var(--fill-color);\n",
              "    animation:\n",
              "      spin 1s steps(1) infinite;\n",
              "  }\n",
              "\n",
              "  @keyframes spin {\n",
              "    0% {\n",
              "      border-color: transparent;\n",
              "      border-bottom-color: var(--fill-color);\n",
              "      border-left-color: var(--fill-color);\n",
              "    }\n",
              "    20% {\n",
              "      border-color: transparent;\n",
              "      border-left-color: var(--fill-color);\n",
              "      border-top-color: var(--fill-color);\n",
              "    }\n",
              "    30% {\n",
              "      border-color: transparent;\n",
              "      border-left-color: var(--fill-color);\n",
              "      border-top-color: var(--fill-color);\n",
              "      border-right-color: var(--fill-color);\n",
              "    }\n",
              "    40% {\n",
              "      border-color: transparent;\n",
              "      border-right-color: var(--fill-color);\n",
              "      border-top-color: var(--fill-color);\n",
              "    }\n",
              "    60% {\n",
              "      border-color: transparent;\n",
              "      border-right-color: var(--fill-color);\n",
              "    }\n",
              "    80% {\n",
              "      border-color: transparent;\n",
              "      border-right-color: var(--fill-color);\n",
              "      border-bottom-color: var(--fill-color);\n",
              "    }\n",
              "    90% {\n",
              "      border-color: transparent;\n",
              "      border-bottom-color: var(--fill-color);\n",
              "    }\n",
              "  }\n",
              "</style>\n",
              "\n",
              "  <script>\n",
              "    async function quickchart(key) {\n",
              "      const quickchartButtonEl =\n",
              "        document.querySelector('#' + key + ' button');\n",
              "      quickchartButtonEl.disabled = true;  // To prevent multiple clicks.\n",
              "      quickchartButtonEl.classList.add('colab-df-spinner');\n",
              "      try {\n",
              "        const charts = await google.colab.kernel.invokeFunction(\n",
              "            'suggestCharts', [key], {});\n",
              "      } catch (error) {\n",
              "        console.error('Error during call to suggestCharts:', error);\n",
              "      }\n",
              "      quickchartButtonEl.classList.remove('colab-df-spinner');\n",
              "      quickchartButtonEl.classList.add('colab-df-quickchart-complete');\n",
              "    }\n",
              "    (() => {\n",
              "      let quickchartButtonEl =\n",
              "        document.querySelector('#df-e12cb8e9-8d73-4361-9c6a-23090b58303d button');\n",
              "      quickchartButtonEl.style.display =\n",
              "        google.colab.kernel.accessAllowed ? 'block' : 'none';\n",
              "    })();\n",
              "  </script>\n",
              "</div>\n",
              "\n",
              "    </div>\n",
              "  </div>\n"
            ],
            "application/vnd.google.colaboratory.intrinsic+json": {
              "type": "dataframe",
              "variable_name": "df_concat",
              "summary": "{\n  \"name\": \"df_concat\",\n  \"rows\": 54,\n  \"fields\": [\n    {\n      \"column\": \"ptA Price\",\n      \"properties\": {\n        \"dtype\": \"number\",\n        \"std\": 8.40467429932634,\n        \"min\": 3.1308105061273426,\n        \"max\": 28.381241772291958,\n        \"num_unique_values\": 54,\n        \"samples\": [\n          16.027883299675487,\n          3.1308105061273426,\n          3.1318036173722805\n        ],\n        \"semantic_type\": \"\",\n        \"description\": \"\"\n      }\n    },\n    {\n      \"column\": \"ptA ErrorBound\",\n      \"properties\": {\n        \"dtype\": \"number\",\n        \"std\": 0.002121037541569582,\n        \"min\": 0.004204188889293194,\n        \"max\": 0.010506690489671169,\n        \"num_unique_values\": 54,\n        \"samples\": [\n          0.008926674339134494,\n          0.004204767707623094,\n          0.0042046577451967\n        ],\n        \"semantic_type\": \"\",\n        \"description\": \"\"\n      }\n    },\n    {\n      \"column\": \"KIRK price\",\n      \"properties\": {\n        \"dtype\": \"number\",\n        \"std\": 8.994627505965546,\n        \"min\": 0.00011476318719037584,\n        \"max\": 29.720274332400102,\n        \"num_unique_values\": 54,\n        \"samples\": [\n          17.25731965697679,\n          4.522952513762787,\n          5.723903907835782\n        ],\n        \"semantic_type\": \"\",\n        \"description\": \"\"\n      }\n    },\n    {\n      \"column\": \"error_n\",\n      \"properties\": {\n        \"dtype\": \"number\",\n        \"std\": 2.1216387740447678,\n        \"min\": -5.63554220895038,\n        \"max\": 2.8648128796180083,\n        \"num_unique_values\": 54,\n        \"samples\": [\n          1.229436357301303,\n          1.3921420076354445,\n          2.592100290463501\n        ],\n        \"semantic_type\": \"\",\n        \"description\": \"\"\n      }\n    },\n    {\n      \"column\": \"ptA LowerBound\",\n      \"properties\": {\n        \"dtype\": \"number\",\n        \"std\": 8.402634161810905,\n        \"min\": 3.1266057384197197,\n        \"max\": 28.370735081802287,\n        \"num_unique_values\": 54,\n        \"samples\": [\n          16.018956625336354,\n          3.1266057384197197,\n          3.127598959627084\n        ],\n        \"semantic_type\": \"\",\n        \"description\": \"\"\n      }\n    },\n    {\n      \"column\": \"ptA UpperBound\",\n      \"properties\": {\n        \"dtype\": \"number\",\n        \"std\": 8.406714476885856,\n        \"min\": 3.1350152738349655,\n        \"max\": 28.391748462781628,\n        \"num_unique_values\": 54,\n        \"samples\": [\n          16.03680997401462,\n          3.1350152738349655,\n          3.136008275117477\n        ],\n        \"semantic_type\": \"\",\n        \"description\": \"\"\n      }\n    },\n    {\n      \"column\": \"Within CI\",\n      \"properties\": {\n        \"dtype\": \"boolean\",\n        \"num_unique_values\": 2,\n        \"samples\": [\n          true,\n          false\n        ],\n        \"semantic_type\": \"\",\n        \"description\": \"\"\n      }\n    }\n  ]\n}"
            }
          },
          "metadata": {},
          "execution_count": 87
        }
      ]
    },
    {
      "cell_type": "markdown",
      "source": [
        "If the Kirk approximation falls within the MC confidence interval is given by the following boolean values:"
      ],
      "metadata": {
        "id": "y3PjVMw1n6Rh"
      }
    },
    {
      "cell_type": "code",
      "source": [
        "bool_ = df_concat['Within CI'].values\n",
        "bool_"
      ],
      "metadata": {
        "colab": {
          "base_uri": "https://localhost:8080/",
          "height": 0
        },
        "id": "vpBjT6GPn59m",
        "outputId": "11c63664-1681-4e84-e567-c30636026356"
      },
      "execution_count": 41,
      "outputs": [
        {
          "output_type": "execute_result",
          "data": {
            "text/plain": [
              "array([False, False, False, False, False, False, False, False, False,\n",
              "       False, False, False, False, False, False, False, False, False,\n",
              "       False, False, False, False, False, False, False, False,  True,\n",
              "       False, False, False, False, False,  True, False, False, False,\n",
              "       False, False,  True, False, False, False, False, False, False,\n",
              "       False, False, False, False, False, False, False, False, False])"
            ]
          },
          "metadata": {},
          "execution_count": 41
        }
      ]
    },
    {
      "cell_type": "code",
      "source": [
        "c = round(df_concat['Within CI'].mean(),5)*100\n",
        "print(f'The KIRK valuation is within our 95% Confidence Interval: {c}% of the time.')"
      ],
      "metadata": {
        "colab": {
          "base_uri": "https://localhost:8080/",
          "height": 0
        },
        "id": "-OoWLTFilVmQ",
        "outputId": "d9aacc7a-7ed7-4ea9-8943-1c79d8b9c319"
      },
      "execution_count": 42,
      "outputs": [
        {
          "output_type": "stream",
          "name": "stdout",
          "text": [
            "The KIRK valuation is within our 95% Confidence Interval: 5.556% of the time.\n"
          ]
        }
      ]
    },
    {
      "cell_type": "markdown",
      "source": [
        "Consider the following scenario:  An option trader explains that if the absolute pricing error |err_n| is larger than the error bound by 0.001, he would not use the analytic approximation to evaluate his spread option trades. Based\n",
        "on this results, will he accept Kirks analytic approximation?"
      ],
      "metadata": {
        "id": "NSDqmd5VnFVg"
      }
    },
    {
      "cell_type": "markdown",
      "source": [
        "Let us do the calculations to find if: $|error_n| > errorbound + 0.001$ .  If this is true, then the options trader would not use KIRKS approximation."
      ],
      "metadata": {
        "id": "ALDPTBF7qWYm"
      }
    },
    {
      "cell_type": "code",
      "source": [
        "df_j = df_concat.loc[:,['error_n','ptA ErrorBound']]\n",
        "df_j['abs(error_n)'] = df_j['error_n'].apply(lambda x: abs(x))\n",
        "df_j['boolean'] = df_j['abs(error_n)'] > df_j['ptA ErrorBound'] + 0.001 #abs(err_n)>errbound + 0.001\n",
        "pct_used = 1 - df_j['boolean'].mean()\n",
        "df_j['boolean'].values #if true the option trader would not use the KIRK APPROX"
      ],
      "metadata": {
        "colab": {
          "base_uri": "https://localhost:8080/",
          "height": 0
        },
        "id": "zwEKdhEBpPEe",
        "outputId": "a5bd64fe-1cde-4d1a-e8fd-378230ea8212"
      },
      "execution_count": 66,
      "outputs": [
        {
          "output_type": "execute_result",
          "data": {
            "text/plain": [
              "array([ True,  True,  True,  True,  True,  True,  True,  True,  True,\n",
              "        True,  True,  True,  True,  True,  True,  True,  True,  True,\n",
              "        True,  True, False,  True,  True,  True,  True,  True, False,\n",
              "        True,  True,  True,  True,  True, False,  True,  True,  True,\n",
              "        True,  True, False,  True,  True,  True,  True,  True,  True,\n",
              "        True,  True,  True,  True,  True,  True,  True,  True,  True])"
            ]
          },
          "metadata": {},
          "execution_count": 66
        }
      ]
    },
    {
      "cell_type": "code",
      "source": [
        "print(df_j.loc[df_j['boolean'] == False] )\n",
        "#places where trader would accept -> (K, rho) = [(-5,0), (0,0), (5,0), (10,0)]"
      ],
      "metadata": {
        "colab": {
          "base_uri": "https://localhost:8080/",
          "height": 0
        },
        "id": "wxZGbQQXsQLO",
        "outputId": "72b15b05-642c-450c-cbe5-ab140d8776ad"
      },
      "execution_count": 82,
      "outputs": [
        {
          "output_type": "stream",
          "name": "stdout",
          "text": [
            "          error_n  ptA ErrorBound  abs(error_n)  boolean\n",
            "-5  0.0  0.009094        0.008927      0.009094    False\n",
            " 0  0.0  0.000188        0.008129      0.000188    False\n",
            " 5  0.0 -0.004713        0.007218      0.004713    False\n",
            " 10 0.0  0.003820        0.006222      0.003820    False\n"
          ]
        }
      ]
    },
    {
      "cell_type": "code",
      "source": [
        "print(f'He would accept the KIRKS approximation: {(pct_used*100):.4f}% of the time.\\nBased on these results, the trader would generally not accept Kirks analytic approximation for evaluating spread option trades.\\nThis is because the absolute pricing error exceeds the error bound by more than 0.001 in the majority of cases.')"
      ],
      "metadata": {
        "colab": {
          "base_uri": "https://localhost:8080/"
        },
        "id": "_7KWPNrrn51l",
        "outputId": "45e3db3d-353d-4730-e496-923875d1d54b"
      },
      "execution_count": 88,
      "outputs": [
        {
          "output_type": "stream",
          "name": "stdout",
          "text": [
            "He would accept the KIRKS approximation: 7.4074% of the time.\n",
            "Based on these results, the trader would generally not accept Kirks analytic approximation for evaluating spread option trades.\n",
            "This is because the absolute pricing error exceeds the error bound by more than 0.001 in the majority of cases.\n"
          ]
        }
      ]
    },
    {
      "cell_type": "markdown",
      "source": [
        "Benefits of KIRKS approximation is the computational time is negligible (as it is closed form).  However, the accuracy is not reliable hence why it is called an approximation!"
      ],
      "metadata": {
        "id": "AphocLrvrOaq"
      }
    }
  ]
}